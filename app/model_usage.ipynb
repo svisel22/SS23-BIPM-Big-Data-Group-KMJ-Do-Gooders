{
 "cells": [
  {
   "cell_type": "code",
   "execution_count": 1,
   "metadata": {},
   "outputs": [],
   "source": [
    "import pickle\n",
    "import pandas as pd"
   ]
  },
  {
   "cell_type": "code",
   "execution_count": 4,
   "metadata": {},
   "outputs": [],
   "source": [
    "# Load the model\n",
    "with open('/Users/kevingiesen/Library/Mobile Documents/com~apple~CloudDocs/BIPM Master/Semester 2/Big Data/Big Data Project 2/SS23-BIPM-Big-Data-Group-KMJ-Do-Gooders/app/pred_lifeexp.pkl', 'rb') as file:\n",
    "    loaded_model = pickle.load(file)"
   ]
  },
  {
   "cell_type": "code",
   "execution_count": 5,
   "metadata": {},
   "outputs": [
    {
     "data": {
      "text/plain": [
       "array([73.21421648])"
      ]
     },
     "execution_count": 5,
     "metadata": {},
     "output_type": "execute_result"
    }
   ],
   "source": [
    "# define what ever indicators we want to input :)\n",
    "# e.g. the following is similiar to india but with an higher gdp so their life exp will rise to 73.2 :)\n",
    "data = {\n",
    "    'access_to_electricity': 100,\n",
    "    'armed_forces' : 3.338855e+06, \n",
    "    'child_immunization' : 100, \n",
    "    'foreign_investm' : 1, \n",
    "    'gdp_per_cap' : 12000,\n",
    "    'measels_immunitization' : 97,\n",
    "    'net_primary_income' : 0, \n",
    "    'perc_overweigth' : 10,\n",
    "    'primary_school_completion' : 100,\n",
    "    'rural_population' : 50, \n",
    "    'trade_in_services'\t: 15,\n",
    "}\n",
    "\n",
    "# transform them into a Dataframe\n",
    "df_test = pd.DataFrame(data, index=range(1))\n",
    "\n",
    "# predict with our loaded model\n",
    "df_pred = loaded_model.predict(df_test)\n",
    "\n",
    "# look at prediction \n",
    "df_pred"
   ]
  }
 ],
 "metadata": {
  "kernelspec": {
   "display_name": "Python 3",
   "language": "python",
   "name": "python3"
  },
  "language_info": {
   "codemirror_mode": {
    "name": "ipython",
    "version": 3
   },
   "file_extension": ".py",
   "mimetype": "text/x-python",
   "name": "python",
   "nbconvert_exporter": "python",
   "pygments_lexer": "ipython3",
   "version": "3.9.16"
  },
  "orig_nbformat": 4,
  "vscode": {
   "interpreter": {
    "hash": "a665b5d41d17b532ea9890333293a1b812fa0b73c9c25c950b3cedf1bebd0438"
   }
  }
 },
 "nbformat": 4,
 "nbformat_minor": 2
}
